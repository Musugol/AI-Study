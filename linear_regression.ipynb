{
  "nbformat": 4,
  "nbformat_minor": 0,
  "metadata": {
    "colab": {
      "provenance": [],
      "mount_file_id": "1PwBs3ZilVpxwoEDgI3Q6Myw71vfSuPDf",
      "authorship_tag": "ABX9TyPpl0KbWXp5/mxAGXnX6fbc",
      "include_colab_link": true
    },
    "kernelspec": {
      "name": "python3",
      "display_name": "Python 3"
    },
    "language_info": {
      "name": "python"
    }
  },
  "cells": [
    {
      "cell_type": "markdown",
      "metadata": {
        "id": "view-in-github",
        "colab_type": "text"
      },
      "source": [
        "<a href=\"https://colab.research.google.com/github/Musugol/AI-Study/blob/main/linear_regression.ipynb\" target=\"_parent\"><img src=\"https://colab.research.google.com/assets/colab-badge.svg\" alt=\"Open In Colab\"/></a>"
      ]
    },
    {
      "cell_type": "code",
      "source": [
        "from sklearn.linear_model import LinearRegression\n",
        "import pandas as pd\n",
        "import numpy as np\n",
        "import matplotlib.pyplot as plt\n",
        "from google.colab import drive\n",
        "drive.mount(\"/content/drive\")"
      ],
      "metadata": {
        "id": "ln2Eh3JbT5_1"
      },
      "execution_count": null,
      "outputs": []
    },
    {
      "cell_type": "code",
      "source": [
        "filename = \"/content/heights.csv\"\n",
        "df = pd.read_csv(filename)\n",
        "df.head()"
      ],
      "metadata": {
        "id": "I7IqqpvKWgvT"
      },
      "execution_count": null,
      "outputs": []
    },
    {
      "cell_type": "code",
      "source": [
        "x=df['height']\n",
        "y=df['weight']\n",
        "plt.plot(x, y, 'o')\n",
        "plt.xlabel('height')\n",
        "plt.ylabel('wieght')"
      ],
      "metadata": {
        "id": "Qsg7P7SsXpb4"
      },
      "execution_count": null,
      "outputs": []
    },
    {
      "cell_type": "code",
      "source": [
        "line_fitter = LinearRegression()\n",
        "line_fitter.fit(x.values.reshape(-1,1),y)"
      ],
      "metadata": {
        "id": "V-nP6s46ZdKO"
      },
      "execution_count": null,
      "outputs": []
    },
    {
      "cell_type": "code",
      "source": [
        "line_fitter.coef_"
      ],
      "metadata": {
        "id": "3ZJ86LHCaRoh"
      },
      "execution_count": null,
      "outputs": []
    },
    {
      "cell_type": "code",
      "source": [
        "line_fitter.intercept_"
      ],
      "metadata": {
        "id": "qKGda5cfanI1"
      },
      "execution_count": null,
      "outputs": []
    },
    {
      "cell_type": "code",
      "source": [
        "plt.plot(x, y, 'o')\n",
        "plt.plot(x, line_fitter.predict(x.values.reshape(-1,1)))\n",
        "plt.show()"
      ],
      "metadata": {
        "id": "LE28CRGuazUO"
      },
      "execution_count": null,
      "outputs": []
    },
    {
      "cell_type": "code",
      "source": [
        "line_fitter.predict([[172]])"
      ],
      "metadata": {
        "colab": {
          "base_uri": "https://localhost:8080/"
        },
        "id": "ZxCHcUVQbMoQ",
        "outputId": "f743ee78-9b8a-4165-d999-b5106c2f370c"
      },
      "execution_count": 31,
      "outputs": [
        {
          "output_type": "execute_result",
          "data": {
            "text/plain": [
              "array([75.35150618])"
            ]
          },
          "metadata": {},
          "execution_count": 31
        }
      ]
    }
  ]
}